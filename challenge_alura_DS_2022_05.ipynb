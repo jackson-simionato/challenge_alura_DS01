{
  "nbformat": 4,
  "nbformat_minor": 0,
  "metadata": {
    "colab": {
      "name": "challenge_alura_DS_2022_05.ipynb",
      "provenance": [],
      "toc_visible": true,
      "authorship_tag": "ABX9TyNK3WxzmHeMSs2hhkLfXJRb",
      "include_colab_link": true
    },
    "kernelspec": {
      "name": "python3",
      "display_name": "Python 3"
    },
    "language_info": {
      "name": "python"
    }
  },
  "cells": [
    {
      "cell_type": "markdown",
      "metadata": {
        "id": "view-in-github",
        "colab_type": "text"
      },
      "source": [
        "<a href=\"https://colab.research.google.com/github/jackson-gaivota/challenge_alura_DS/blob/main/challenge_alura_DS_2022_05.ipynb\" target=\"_parent\"><img src=\"https://colab.research.google.com/assets/colab-badge.svg\" alt=\"Open In Colab\"/></a>"
      ]
    },
    {
      "cell_type": "markdown",
      "source": [
        "# Challenge Alura - Data Science"
      ],
      "metadata": {
        "id": "kfkbGUp1i0dm"
      }
    },
    {
      "cell_type": "markdown",
      "source": [
        "# Semana 1"
      ],
      "metadata": {
        "id": "461dXVhAi4Rx"
      }
    },
    {
      "cell_type": "code",
      "source": [
        ""
      ],
      "metadata": {
        "id": "XD5qhAByi7zP"
      },
      "execution_count": null,
      "outputs": []
    },
    {
      "cell_type": "markdown",
      "source": [
        ""
      ],
      "metadata": {
        "id": "OysG1OHaisFJ"
      }
    }
  ]
}