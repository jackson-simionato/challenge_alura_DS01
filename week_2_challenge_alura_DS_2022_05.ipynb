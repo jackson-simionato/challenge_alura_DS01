{
 "cells": [
  {
   "cell_type": "markdown",
   "source": [
    "**Relembrando o desafio...**\n",
    "\n",
    "Você foi contratado(a) como cientista de dados pela operadora de telecomunicações **Alura Voz**. Na reunião inicial com as pessoas responsáveis pela área de vendas da empresa, foi explicada a importância de se **reduzir a Taxa de Evasão** de Clientes, conhecido como **Churn Rate**. Basicamente, o Churn Rate indica o quanto a empresa perdeu de receita ou clientes em um período de tempo.\n",
    "\n",
    "Com sua experiência, você sugere, como passo inicial, a identificação de clientes que teriam uma maior chance de deixar a empresa. Para isso, você explica que é interessante investigar algumas características de clientes ou dos planos de clientes para tentar **CLASSIFICAR** estas pessoas como potenciais candidatas a deixar a empresa ou não.\n",
    "\n",
    "Assim, você solicita o conjunto de dados para começar a explorar, tratar e modelar a partir de agora. Em seguida, o foco será na otimização de cada um dos modelos com a finalidade de obter o melhor resultado para a tomada de decisão da **Alura Voz**. "
   ],
   "metadata": {}
  },
  {
   "cell_type": "markdown",
   "source": [
    "## Importando dados e bibliotecas"
   ],
   "metadata": {}
  },
  {
   "cell_type": "code",
   "execution_count": 1,
   "source": [
    "import pandas as pd\n",
    "pd.set_option('display.max_columns', 100)\n",
    "\n",
    "import seaborn as sns\n",
    "sns.color_palette(\"Paired\")\n",
    "import matplotlib as plt\n",
    "import plotly.express as px\n",
    "import plotly.graph_objects as go"
   ],
   "outputs": [],
   "metadata": {}
  },
  {
   "cell_type": "code",
   "execution_count": 2,
   "source": [
    "dados = pd.read_csv('./data_churn_rate_processed.csv')\n",
    "dados.head()"
   ],
   "outputs": [
    {
     "output_type": "execute_result",
     "data": {
      "text/plain": [
       "   id_cliente churn  genero idoso parceiro dependentes  meses_contrato  \\\n",
       "0  0002-ORFBO    No  Female    No      Yes         Yes               9   \n",
       "1  0003-MKNFE    No    Male    No       No          No               9   \n",
       "2  0004-TLHLJ   Yes    Male    No       No          No               4   \n",
       "3  0011-IGKFF   Yes    Male   Yes      Yes          No              13   \n",
       "4  0013-EXCHZ   Yes  Female   Yes      Yes          No               3   \n",
       "\n",
       "  servico_telefone multiplas_linhas servico_internet seguranca_online  \\\n",
       "0              Yes               No              DSL               No   \n",
       "1              Yes              Yes              DSL               No   \n",
       "2              Yes               No      Fiber optic               No   \n",
       "3              Yes               No      Fiber optic               No   \n",
       "4              Yes               No      Fiber optic               No   \n",
       "\n",
       "  backup_online protecao_dispositivo suporte streaming_tv streaming_filmes  \\\n",
       "0           Yes                   No     Yes          Yes               No   \n",
       "1            No                   No      No           No              Yes   \n",
       "2            No                  Yes      No           No               No   \n",
       "3           Yes                  Yes      No          Yes              Yes   \n",
       "4            No                   No     Yes          Yes               No   \n",
       "\n",
       "         contrato fatura_online   forma_pagamento  cobranca_diaria  \\\n",
       "0        One year           Yes      Mailed check             2.19   \n",
       "1  Month-to-month            No      Mailed check             2.00   \n",
       "2  Month-to-month           Yes  Electronic check             2.46   \n",
       "3  Month-to-month           Yes  Electronic check             3.27   \n",
       "4  Month-to-month           Yes      Mailed check             2.80   \n",
       "\n",
       "   cobranca_mensal  cobranca_total  \n",
       "0             65.6          593.30  \n",
       "1             59.9          542.40  \n",
       "2             73.9          280.85  \n",
       "3             98.0         1237.85  \n",
       "4             83.9          267.40  "
      ],
      "text/html": [
       "<div>\n",
       "<style scoped>\n",
       "    .dataframe tbody tr th:only-of-type {\n",
       "        vertical-align: middle;\n",
       "    }\n",
       "\n",
       "    .dataframe tbody tr th {\n",
       "        vertical-align: top;\n",
       "    }\n",
       "\n",
       "    .dataframe thead th {\n",
       "        text-align: right;\n",
       "    }\n",
       "</style>\n",
       "<table border=\"1\" class=\"dataframe\">\n",
       "  <thead>\n",
       "    <tr style=\"text-align: right;\">\n",
       "      <th></th>\n",
       "      <th>id_cliente</th>\n",
       "      <th>churn</th>\n",
       "      <th>genero</th>\n",
       "      <th>idoso</th>\n",
       "      <th>parceiro</th>\n",
       "      <th>dependentes</th>\n",
       "      <th>meses_contrato</th>\n",
       "      <th>servico_telefone</th>\n",
       "      <th>multiplas_linhas</th>\n",
       "      <th>servico_internet</th>\n",
       "      <th>seguranca_online</th>\n",
       "      <th>backup_online</th>\n",
       "      <th>protecao_dispositivo</th>\n",
       "      <th>suporte</th>\n",
       "      <th>streaming_tv</th>\n",
       "      <th>streaming_filmes</th>\n",
       "      <th>contrato</th>\n",
       "      <th>fatura_online</th>\n",
       "      <th>forma_pagamento</th>\n",
       "      <th>cobranca_diaria</th>\n",
       "      <th>cobranca_mensal</th>\n",
       "      <th>cobranca_total</th>\n",
       "    </tr>\n",
       "  </thead>\n",
       "  <tbody>\n",
       "    <tr>\n",
       "      <th>0</th>\n",
       "      <td>0002-ORFBO</td>\n",
       "      <td>No</td>\n",
       "      <td>Female</td>\n",
       "      <td>No</td>\n",
       "      <td>Yes</td>\n",
       "      <td>Yes</td>\n",
       "      <td>9</td>\n",
       "      <td>Yes</td>\n",
       "      <td>No</td>\n",
       "      <td>DSL</td>\n",
       "      <td>No</td>\n",
       "      <td>Yes</td>\n",
       "      <td>No</td>\n",
       "      <td>Yes</td>\n",
       "      <td>Yes</td>\n",
       "      <td>No</td>\n",
       "      <td>One year</td>\n",
       "      <td>Yes</td>\n",
       "      <td>Mailed check</td>\n",
       "      <td>2.19</td>\n",
       "      <td>65.6</td>\n",
       "      <td>593.30</td>\n",
       "    </tr>\n",
       "    <tr>\n",
       "      <th>1</th>\n",
       "      <td>0003-MKNFE</td>\n",
       "      <td>No</td>\n",
       "      <td>Male</td>\n",
       "      <td>No</td>\n",
       "      <td>No</td>\n",
       "      <td>No</td>\n",
       "      <td>9</td>\n",
       "      <td>Yes</td>\n",
       "      <td>Yes</td>\n",
       "      <td>DSL</td>\n",
       "      <td>No</td>\n",
       "      <td>No</td>\n",
       "      <td>No</td>\n",
       "      <td>No</td>\n",
       "      <td>No</td>\n",
       "      <td>Yes</td>\n",
       "      <td>Month-to-month</td>\n",
       "      <td>No</td>\n",
       "      <td>Mailed check</td>\n",
       "      <td>2.00</td>\n",
       "      <td>59.9</td>\n",
       "      <td>542.40</td>\n",
       "    </tr>\n",
       "    <tr>\n",
       "      <th>2</th>\n",
       "      <td>0004-TLHLJ</td>\n",
       "      <td>Yes</td>\n",
       "      <td>Male</td>\n",
       "      <td>No</td>\n",
       "      <td>No</td>\n",
       "      <td>No</td>\n",
       "      <td>4</td>\n",
       "      <td>Yes</td>\n",
       "      <td>No</td>\n",
       "      <td>Fiber optic</td>\n",
       "      <td>No</td>\n",
       "      <td>No</td>\n",
       "      <td>Yes</td>\n",
       "      <td>No</td>\n",
       "      <td>No</td>\n",
       "      <td>No</td>\n",
       "      <td>Month-to-month</td>\n",
       "      <td>Yes</td>\n",
       "      <td>Electronic check</td>\n",
       "      <td>2.46</td>\n",
       "      <td>73.9</td>\n",
       "      <td>280.85</td>\n",
       "    </tr>\n",
       "    <tr>\n",
       "      <th>3</th>\n",
       "      <td>0011-IGKFF</td>\n",
       "      <td>Yes</td>\n",
       "      <td>Male</td>\n",
       "      <td>Yes</td>\n",
       "      <td>Yes</td>\n",
       "      <td>No</td>\n",
       "      <td>13</td>\n",
       "      <td>Yes</td>\n",
       "      <td>No</td>\n",
       "      <td>Fiber optic</td>\n",
       "      <td>No</td>\n",
       "      <td>Yes</td>\n",
       "      <td>Yes</td>\n",
       "      <td>No</td>\n",
       "      <td>Yes</td>\n",
       "      <td>Yes</td>\n",
       "      <td>Month-to-month</td>\n",
       "      <td>Yes</td>\n",
       "      <td>Electronic check</td>\n",
       "      <td>3.27</td>\n",
       "      <td>98.0</td>\n",
       "      <td>1237.85</td>\n",
       "    </tr>\n",
       "    <tr>\n",
       "      <th>4</th>\n",
       "      <td>0013-EXCHZ</td>\n",
       "      <td>Yes</td>\n",
       "      <td>Female</td>\n",
       "      <td>Yes</td>\n",
       "      <td>Yes</td>\n",
       "      <td>No</td>\n",
       "      <td>3</td>\n",
       "      <td>Yes</td>\n",
       "      <td>No</td>\n",
       "      <td>Fiber optic</td>\n",
       "      <td>No</td>\n",
       "      <td>No</td>\n",
       "      <td>No</td>\n",
       "      <td>Yes</td>\n",
       "      <td>Yes</td>\n",
       "      <td>No</td>\n",
       "      <td>Month-to-month</td>\n",
       "      <td>Yes</td>\n",
       "      <td>Mailed check</td>\n",
       "      <td>2.80</td>\n",
       "      <td>83.9</td>\n",
       "      <td>267.40</td>\n",
       "    </tr>\n",
       "  </tbody>\n",
       "</table>\n",
       "</div>"
      ]
     },
     "metadata": {},
     "execution_count": 2
    }
   ],
   "metadata": {}
  },
  {
   "cell_type": "markdown",
   "source": [
    "## Análise exploratória dos dados\n",
    "\n",
    "Inicialmente vamos explorar o nosso conjunto de dados tentando encontrar correlações entre nosso atributo classe (`churn`) e o restante das variáveis.\n",
    "\n",
    "Além disso, também pode ser interessante analisar como as outras variáveis específicas se relacionam entre si."
   ],
   "metadata": {}
  },
  {
   "cell_type": "code",
   "execution_count": 3,
   "source": [
    "frequencia_churn = dados.churn.value_counts(normalize=True)*100\n",
    "print(frequencia_churn)\n",
    "\n",
    "fig = sns.barplot(x=frequencia_churn.index, y=frequencia_churn.values)\n",
    "fig.set_ylabel('(%)')\n",
    "fig.set_xlabel('Churn')"
   ],
   "outputs": [
    {
     "output_type": "stream",
     "name": "stdout",
     "text": [
      "No           71.198569\n",
      "Yes          25.719004\n",
      "undefined     3.082427\n",
      "Name: churn, dtype: float64\n"
     ]
    },
    {
     "output_type": "execute_result",
     "data": {
      "text/plain": [
       "Text(0.5, 0, 'Churn')"
      ]
     },
     "metadata": {},
     "execution_count": 3
    },
    {
     "output_type": "display_data",
     "data": {
      "text/plain": [
       "<Figure size 432x288 with 1 Axes>"
      ],
      "image/png": "[encoded data removed]"
     },
     "metadata": {
      "needs_background": "light"
     }
    }
   ],
   "metadata": {}
  },
  {
   "cell_type": "markdown",
   "source": [
    "Podemos verificar numericamente e visualmente que a grande maioria dos clientes (71%) não geraram **churn**, enquanto que aproximadamente 26% optaram pelo encerramento dos serviços.\n",
    "\n",
    "Ainda assim pode-se considerar uma taxa de churn bastante alta, por isso nossa análise será importante para identificar as possíveis causas. Outros 3% estão com situação indefinida na variável `churn`"
   ],
   "metadata": {}
  },
  {
   "cell_type": "markdown",
   "source": [
    "Agora vamos realizar uma série de análises entre `churn` e as outras variáveis do dataset, começando pelo **gênero** dos clientes"
   ],
   "metadata": {}
  },
  {
   "cell_type": "markdown",
   "source": [
    "### Relação entre `churn` vs. `genero` e `idoso`"
   ],
   "metadata": {}
  },
  {
   "cell_type": "markdown",
   "source": [
    "Primeiro vamos ver numericamente como está a distribuição das variáveis e sua relação com nosso atributo principal"
   ],
   "metadata": {}
  },
  {
   "cell_type": "code",
   "execution_count": 4,
   "source": [
    "from plotly.subplots import make_subplots\n",
    "\n",
    "print('Variável \"gênero\"')\n",
    "frequencia_genero = dados.genero.value_counts()\n",
    "cross_churn_genero = pd.crosstab(dados.churn, dados.genero).reset_index()\n",
    "cross_churn_genero.Female = round((cross_churn_genero.Female / cross_churn_genero.Female.sum()) * 100, 2)\n",
    "cross_churn_genero.Male = round((cross_churn_genero.Male / cross_churn_genero.Male.sum()) * 100, 2)\n",
    "display(frequencia_genero)\n",
    "print('Porcentagens')\n",
    "display(cross_churn_genero)\n",
    "print('\\n')\n",
    "\n",
    "print('Variável \"idoso\"')\n",
    "frequencia_idoso = dados.idoso.value_counts()\n",
    "frequencia_idoso.rename(index={'No':'Nao_idoso','Yes':'Idoso'}, inplace=True)\n",
    "cross_churn_idoso = pd.crosstab(dados.churn, dados.idoso).reset_index()\n",
    "cross_churn_idoso.rename(columns={'No':'Nao_idoso','Yes':'Idoso'}, inplace=True)\n",
    "cross_churn_idoso.Nao_idoso = round((cross_churn_idoso.Nao_idoso / cross_churn_idoso.Nao_idoso.sum()) * 100, 2)\n",
    "cross_churn_idoso.Idoso = round((cross_churn_idoso.Idoso / cross_churn_idoso.Idoso.sum()) * 100, 2)\n",
    "display(frequencia_idoso)\n",
    "print('Porcentagens')\n",
    "display(cross_churn_idoso)"
   ],
   "outputs": [
    {
     "output_type": "stream",
     "name": "stdout",
     "text": [
      "Variável \"gênero\"\n"
     ]
    },
    {
     "output_type": "display_data",
     "data": {
      "text/plain": [
       "Male      3675\n",
       "Female    3592\n",
       "Name: genero, dtype: int64"
      ]
     },
     "metadata": {}
    },
    {
     "output_type": "stream",
     "name": "stdout",
     "text": [
      "Porcentagens\n"
     ]
    },
    {
     "output_type": "display_data",
     "data": {
      "text/plain": [
       "genero      churn  Female   Male\n",
       "0              No   70.96  71.43\n",
       "1             Yes   26.14  25.31\n",
       "2       undefined    2.90   3.27"
      ],
      "text/html": [
       "<div>\n",
       "<style scoped>\n",
       "    .dataframe tbody tr th:only-of-type {\n",
       "        vertical-align: middle;\n",
       "    }\n",
       "\n",
       "    .dataframe tbody tr th {\n",
       "        vertical-align: top;\n",
       "    }\n",
       "\n",
       "    .dataframe thead th {\n",
       "        text-align: right;\n",
       "    }\n",
       "</style>\n",
       "<table border=\"1\" class=\"dataframe\">\n",
       "  <thead>\n",
       "    <tr style=\"text-align: right;\">\n",
       "      <th>genero</th>\n",
       "      <th>churn</th>\n",
       "      <th>Female</th>\n",
       "      <th>Male</th>\n",
       "    </tr>\n",
       "  </thead>\n",
       "  <tbody>\n",
       "    <tr>\n",
       "      <th>0</th>\n",
       "      <td>No</td>\n",
       "      <td>70.96</td>\n",
       "      <td>71.43</td>\n",
       "    </tr>\n",
       "    <tr>\n",
       "      <th>1</th>\n",
       "      <td>Yes</td>\n",
       "      <td>26.14</td>\n",
       "      <td>25.31</td>\n",
       "    </tr>\n",
       "    <tr>\n",
       "      <th>2</th>\n",
       "      <td>undefined</td>\n",
       "      <td>2.90</td>\n",
       "      <td>3.27</td>\n",
       "    </tr>\n",
       "  </tbody>\n",
       "</table>\n",
       "</div>"
      ]
     },
     "metadata": {}
    },
    {
     "output_type": "stream",
     "name": "stdout",
     "text": [
      "\n",
      "\n",
      "Variável \"idoso\"\n"
     ]
    },
    {
     "output_type": "display_data",
     "data": {
      "text/plain": [
       "Nao_idoso    6085\n",
       "Idoso        1182\n",
       "Name: idoso, dtype: int64"
      ]
     },
     "metadata": {}
    },
    {
     "output_type": "stream",
     "name": "stdout",
     "text": [
      "Porcentagens\n"
     ]
    },
    {
     "output_type": "display_data",
     "data": {
      "text/plain": [
       "idoso      churn  Nao_idoso  Idoso\n",
       "0             No      74.08  56.35\n",
       "1            Yes      22.89  40.27\n",
       "2      undefined       3.02   3.38"
      ],
      "text/html": [
       "<div>\n",
       "<style scoped>\n",
       "    .dataframe tbody tr th:only-of-type {\n",
       "        vertical-align: middle;\n",
       "    }\n",
       "\n",
       "    .dataframe tbody tr th {\n",
       "        vertical-align: top;\n",
       "    }\n",
       "\n",
       "    .dataframe thead th {\n",
       "        text-align: right;\n",
       "    }\n",
       "</style>\n",
       "<table border=\"1\" class=\"dataframe\">\n",
       "  <thead>\n",
       "    <tr style=\"text-align: right;\">\n",
       "      <th>idoso</th>\n",
       "      <th>churn</th>\n",
       "      <th>Nao_idoso</th>\n",
       "      <th>Idoso</th>\n",
       "    </tr>\n",
       "  </thead>\n",
       "  <tbody>\n",
       "    <tr>\n",
       "      <th>0</th>\n",
       "      <td>No</td>\n",
       "      <td>74.08</td>\n",
       "      <td>56.35</td>\n",
       "    </tr>\n",
       "    <tr>\n",
       "      <th>1</th>\n",
       "      <td>Yes</td>\n",
       "      <td>22.89</td>\n",
       "      <td>40.27</td>\n",
       "    </tr>\n",
       "    <tr>\n",
       "      <th>2</th>\n",
       "      <td>undefined</td>\n",
       "      <td>3.02</td>\n",
       "      <td>3.38</td>\n",
       "    </tr>\n",
       "  </tbody>\n",
       "</table>\n",
       "</div>"
      ]
     },
     "metadata": {}
    }
   ],
   "metadata": {}
  },
  {
   "cell_type": "code",
   "execution_count": 5,
   "source": [
    "bar1 = px.bar(x=frequencia_genero.index, y=frequencia_genero.values, labels={'x':'gênero','y':'count'}, text_auto=True, color=frequencia_genero.index, color_discrete_sequence=['black','goldenrod'])\n",
    "\n",
    "bar2 = px.bar(cross_churn_genero, x='churn', y=[\"Male\",\"Female\"], barmode='group', labels={'value':'count'}, text_auto=True, color_discrete_sequence=['black','goldenrod'])\n",
    "\n",
    "bar3 = px.bar(x=frequencia_idoso.index, y=frequencia_idoso.values, labels={'x':'Idoso','y':'count'}, text_auto=True, color=frequencia_idoso.index, color_discrete_sequence=px.colors.qualitative.G10)\n",
    "\n",
    "bar4 = px.bar(cross_churn_idoso, x='churn', y=[\"Nao_idoso\",\"Idoso\"], barmode='group', labels={'value':'count'}, text_auto=True, color_discrete_sequence=px.colors.qualitative.G10)\n",
    "\n",
    "fig = make_subplots(rows=2, cols=2, subplot_titles=['Histograma da variável gênero',\"Relação entre churn e o gênero dos clientes\",'Histograma da variável idoso',\"Relação entre churn e idade dos clientes\"])\n",
    "fig.append_trace(bar1['data'][0], row=1, col=1)\n",
    "fig.append_trace(bar1['data'][1], row=1, col=1)\n",
    "\n",
    "fig.append_trace(bar2['data'][0], row=1, col=2)\n",
    "fig.append_trace(bar2['data'][1], row=1, col=2)\n",
    "\n",
    "fig.append_trace(bar3['data'][0], row=2, col=1)\n",
    "fig.append_trace(bar3['data'][1], row=2, col=1)\n",
    "\n",
    "fig.append_trace(bar4['data'][0], row=2, col=2)\n",
    "fig.append_trace(bar4['data'][1], row=2, col=2)\n",
    "\n",
    "fig.update_xaxes(title_text='Gênero', row=1, col=1)\n",
    "fig.update_xaxes(title_text='Churn', row=1, col=2)\n",
    "fig.update_xaxes(title_text='Idoso', row=2, col=1)\n",
    "fig.update_xaxes(title_text='Churn', row=2, col=2)\n",
    "fig.update_yaxes(title_text='Count', row=1, col=1)\n",
    "fig.update_yaxes(title_text='(%)', row=1, col=2)\n",
    "fig.update_yaxes(title_text='Count', row=2, col=1)\n",
    "fig.update_yaxes(title_text='(%)', row=2, col=2)\n",
    "\n",
    "\n",
    "\n",
    "fig.update_layout(\n",
    "    height=800,\n",
    "    width=1000\n",
    ")\n",
    "\n",
    "fig.show('png')"
   ],
   "outputs": [],
   "metadata": {}
  },
  {
   "cell_type": "markdown",
   "source": [
    "Com estes 4 gráficos, é possível tirar duas conclusões sobre nossos dados.\n",
    "\n",
    "1º Não há uma relação clara entre a ocorrência de churn e o gênero das pessoas, já que a distribuição da frequência está semelhante nos dois casos. Isso pode indicar que o serviço está adequado para os diferentes perfis de cliente de acordo com o gênero.\n",
    "\n",
    "2º A **churn rate** está proporcionalmente maior entre os clientes idosos (> 65 anos). Portanto há uma maior dificuldade de reter os clientes de mais idade, uma das causas pode ser a existência de problemas na acessibilidade dos produtos."
   ],
   "metadata": {}
  },
  {
   "cell_type": "markdown",
   "source": [
    "Uma análise ainda mais profunda pode ser feito nesse mesmo sentido, verificando o padrão de `churn` com relação às variáveis de gênero e idade **combinadas**"
   ],
   "metadata": {}
  },
  {
   "cell_type": "code",
   "execution_count": null,
   "source": [
    "cross_genero_idade = pd.crosstab(dados.churn, [dados.genero,dados.idoso]).unstack().reset_index().rename(columns={0:'Count'})\n",
    "cross_genero_idade['percent'] = 0\n",
    "cross_genero_idade.loc[(cross_genero_idade.genero=='Female') & (cross_genero_idade.idoso == 'No'), 'percent'] = round((cross_genero_idade.loc[(cross_genero_idade.genero=='Female') & (cross_genero_idade.idoso == 'No')].Count / cross_genero_idade.loc[(cross_genero_idade.genero=='Female') & (cross_genero_idade.idoso == 'No')].Count.sum()) * 100, 2)\n",
    "cross_genero_idade.loc[(cross_genero_idade.genero=='Female') & (cross_genero_idade.idoso == 'Yes'), 'percent'] = round((cross_genero_idade.loc[(cross_genero_idade.genero=='Female') & (cross_genero_idade.idoso == 'Yes')].Count / cross_genero_idade.loc[(cross_genero_idade.genero=='Female') & (cross_genero_idade.idoso == 'Yes')].Count.sum()) * 100, 2)\n",
    "cross_genero_idade.loc[(cross_genero_idade.genero=='Male') & (cross_genero_idade.idoso == 'No'), 'percent'] = round((cross_genero_idade.loc[(cross_genero_idade.genero=='Male') & (cross_genero_idade.idoso == 'No')].Count / cross_genero_idade.loc[(cross_genero_idade.genero=='Male') & (cross_genero_idade.idoso == 'No')].Count.sum()) * 100, 2)\n",
    "cross_genero_idade.loc[(cross_genero_idade.genero=='Male') & (cross_genero_idade.idoso == 'Yes'), 'percent'] = round((cross_genero_idade.loc[(cross_genero_idade.genero=='Male') & (cross_genero_idade.idoso == 'Yes')].Count / cross_genero_idade.loc[(cross_genero_idade.genero=='Male') & (cross_genero_idade.idoso == 'Yes')].Count.sum()) * 100, 2)\n",
    "\n",
    "cross_genero_idade.idoso.replace({'No':'Nao_idoso','Yes':'Idoso'}, inplace=True)\n",
    "cross_genero_idade"
   ],
   "outputs": [
    {
     "output_type": "execute_result",
     "data": {
      "text/plain": [
       "    genero      idoso      churn  Count  percent\n",
       "0   Female  Nao_idoso         No   2221    73.98\n",
       "1   Female  Nao_idoso        Yes    699    23.28\n",
       "2   Female  Nao_idoso  undefined     82     2.73\n",
       "3   Female      Idoso         No    328    55.59\n",
       "4   Female      Idoso        Yes    240    40.68\n",
       "5   Female      Idoso  undefined     22     3.73\n",
       "6     Male  Nao_idoso         No   2287    74.18\n",
       "7     Male  Nao_idoso        Yes    694    22.51\n",
       "8     Male  Nao_idoso  undefined    102     3.31\n",
       "9     Male      Idoso         No    338    57.09\n",
       "10    Male      Idoso        Yes    236    39.86\n",
       "11    Male      Idoso  undefined     18     3.04"
      ],
      "text/html": [
       "<div>\n",
       "<style scoped>\n",
       "    .dataframe tbody tr th:only-of-type {\n",
       "        vertical-align: middle;\n",
       "    }\n",
       "\n",
       "    .dataframe tbody tr th {\n",
       "        vertical-align: top;\n",
       "    }\n",
       "\n",
       "    .dataframe thead th {\n",
       "        text-align: right;\n",
       "    }\n",
       "</style>\n",
       "<table border=\"1\" class=\"dataframe\">\n",
       "  <thead>\n",
       "    <tr style=\"text-align: right;\">\n",
       "      <th></th>\n",
       "      <th>genero</th>\n",
       "      <th>idoso</th>\n",
       "      <th>churn</th>\n",
       "      <th>Count</th>\n",
       "      <th>percent</th>\n",
       "    </tr>\n",
       "  </thead>\n",
       "  <tbody>\n",
       "    <tr>\n",
       "      <th>0</th>\n",
       "      <td>Female</td>\n",
       "      <td>Nao_idoso</td>\n",
       "      <td>No</td>\n",
       "      <td>2221</td>\n",
       "      <td>73.98</td>\n",
       "    </tr>\n",
       "    <tr>\n",
       "      <th>1</th>\n",
       "      <td>Female</td>\n",
       "      <td>Nao_idoso</td>\n",
       "      <td>Yes</td>\n",
       "      <td>699</td>\n",
       "      <td>23.28</td>\n",
       "    </tr>\n",
       "    <tr>\n",
       "      <th>2</th>\n",
       "      <td>Female</td>\n",
       "      <td>Nao_idoso</td>\n",
       "      <td>undefined</td>\n",
       "      <td>82</td>\n",
       "      <td>2.73</td>\n",
       "    </tr>\n",
       "    <tr>\n",
       "      <th>3</th>\n",
       "      <td>Female</td>\n",
       "      <td>Idoso</td>\n",
       "      <td>No</td>\n",
       "      <td>328</td>\n",
       "      <td>55.59</td>\n",
       "    </tr>\n",
       "    <tr>\n",
       "      <th>4</th>\n",
       "      <td>Female</td>\n",
       "      <td>Idoso</td>\n",
       "      <td>Yes</td>\n",
       "      <td>240</td>\n",
       "      <td>40.68</td>\n",
       "    </tr>\n",
       "    <tr>\n",
       "      <th>5</th>\n",
       "      <td>Female</td>\n",
       "      <td>Idoso</td>\n",
       "      <td>undefined</td>\n",
       "      <td>22</td>\n",
       "      <td>3.73</td>\n",
       "    </tr>\n",
       "    <tr>\n",
       "      <th>6</th>\n",
       "      <td>Male</td>\n",
       "      <td>Nao_idoso</td>\n",
       "      <td>No</td>\n",
       "      <td>2287</td>\n",
       "      <td>74.18</td>\n",
       "    </tr>\n",
       "    <tr>\n",
       "      <th>7</th>\n",
       "      <td>Male</td>\n",
       "      <td>Nao_idoso</td>\n",
       "      <td>Yes</td>\n",
       "      <td>694</td>\n",
       "      <td>22.51</td>\n",
       "    </tr>\n",
       "    <tr>\n",
       "      <th>8</th>\n",
       "      <td>Male</td>\n",
       "      <td>Nao_idoso</td>\n",
       "      <td>undefined</td>\n",
       "      <td>102</td>\n",
       "      <td>3.31</td>\n",
       "    </tr>\n",
       "    <tr>\n",
       "      <th>9</th>\n",
       "      <td>Male</td>\n",
       "      <td>Idoso</td>\n",
       "      <td>No</td>\n",
       "      <td>338</td>\n",
       "      <td>57.09</td>\n",
       "    </tr>\n",
       "    <tr>\n",
       "      <th>10</th>\n",
       "      <td>Male</td>\n",
       "      <td>Idoso</td>\n",
       "      <td>Yes</td>\n",
       "      <td>236</td>\n",
       "      <td>39.86</td>\n",
       "    </tr>\n",
       "    <tr>\n",
       "      <th>11</th>\n",
       "      <td>Male</td>\n",
       "      <td>Idoso</td>\n",
       "      <td>undefined</td>\n",
       "      <td>18</td>\n",
       "      <td>3.04</td>\n",
       "    </tr>\n",
       "  </tbody>\n",
       "</table>\n",
       "</div>"
      ]
     },
     "metadata": {},
     "execution_count": 50
    }
   ],
   "metadata": {}
  },
  {
   "cell_type": "code",
   "execution_count": null,
   "source": [
    "fig = make_subplots(rows=1, cols=2, subplot_titles=['Distribuição de Churn em mulheres idosas e não idosas','Distribuição de Churn em homens idosos e não idosos'])\n",
    "\n",
    "bar1 = px.bar(x=cross_genero_idade.query('genero==\"Female\"')['idoso'],y=cross_genero_idade.query('genero==\"Female\"')['percent'], labels={'x':'Idoso', 'y':'percent'}, text_auto=True, color=cross_genero_idade.query('genero==\"Female\"')['churn'])\n",
    "bar2 = px.bar(x=cross_genero_idade.query('genero==\"Male\"')['idoso'],y=cross_genero_idade.query('genero==\"Male\"')['percent'], labels={'x':'Idoso', 'y':'percent'}, text_auto=True, color=cross_genero_idade.query('genero==\"Male\"')['churn'])\n",
    "\n",
    "fig.append_trace(bar1['data'][0], row=1, col=1)\n",
    "fig.append_trace(bar1['data'][1], row=1, col=1)\n",
    "fig.append_trace(bar1['data'][2], row=1, col=1)\n",
    "\n",
    "\n",
    "fig.append_trace(bar2['data'][0], row=1, col=2)\n",
    "fig.append_trace(bar2['data'][1], row=1, col=2)\n",
    "fig.append_trace(bar2['data'][2], row=1, col=2)\n",
    "\n",
    "fig.update_layout(width=1000 , height=500, barmode='stack')\n",
    "\n",
    "newnames = {'No':'No churn', 'Yes': 'Churn', 'undefined': 'undefined'}\n",
    "fig.for_each_trace(lambda t: t.update(name = newnames[t.name],\n",
    "                                      legendgroup = newnames[t.name],\n",
    "                                      hovertemplate = t.hovertemplate.replace(t.name, newnames[t.name])\n",
    "                                     )\n",
    "                  )\n",
    "\n",
    "fig.show('png')"
   ],
   "outputs": [
    {
     "output_type": "display_data",
     "data": {
      "image/png": "[encoded data removed]"
     },
     "metadata": {}
    }
   ],
   "metadata": {}
  },
  {
   "cell_type": "markdown",
   "source": [
    "Nesse caso vimos que a **churn rate** está similar entre mulheres e homens idosos;\n",
    "\n",
    "Portanto agora temos mais confiança em dizer que a idade é um fator importante para ocorrência de churn, indiferente do gênero da pessoa."
   ],
   "metadata": {}
  },
  {
   "cell_type": "markdown",
   "source": [
    "### Churn x Idade"
   ],
   "metadata": {}
  },
  {
   "cell_type": "markdown",
   "source": [],
   "metadata": {}
  }
 ],
 "metadata": {
  "orig_nbformat": 4,
  "language_info": {
   "name": "python",
   "version": "3.7.6",
   "mimetype": "text/x-python",
   "codemirror_mode": {
    "name": "ipython",
    "version": 3
   },
   "pygments_lexer": "ipython3",
   "nbconvert_exporter": "python",
   "file_extension": ".py"
  },
  "kernelspec": {
   "name": "python3",
   "display_name": "Python 3.7.6 64-bit ('anaconda3': virtualenv)"
  },
  "interpreter": {
   "hash": "2cc6d379ee40ae12f58f3d17d7eb75516b9e0982802113dcfca2674b79e8027d"
  }
 },
 "nbformat": 4,
 "nbformat_minor": 2
}